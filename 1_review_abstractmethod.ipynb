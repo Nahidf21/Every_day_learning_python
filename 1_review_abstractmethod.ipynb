{
 "cells": [
  {
   "cell_type": "code",
   "execution_count": 1,
   "metadata": {},
   "outputs": [],
   "source": [
    "from abc import ABC,abstractmethod"
   ]
  },
  {
   "cell_type": "code",
   "execution_count": 35,
   "metadata": {},
   "outputs": [],
   "source": [
    "class A(ABC):\n",
    "    def __init__(self,name):\n",
    "        self.name= name\n",
    "        \n",
    "    @abstractmethod\n",
    "    def name1(self):\n",
    "        pass\n",
    "\n",
    "    @abstractmethod\n",
    "    def my_name(self):\n",
    "        pass\n"
   ]
  },
  {
   "cell_type": "code",
   "execution_count": 36,
   "metadata": {},
   "outputs": [],
   "source": [
    "class B(A):\n",
    "    def __init__(self, name):\n",
    "        super().__init__(name)\n",
    "\n",
    "    def your_name(self):\n",
    "        print(f\"Your name : {self.name}\")\n",
    "\n",
    "    def my_name(self):\n",
    "        print(\"This is Abstractor Method\")\n",
    "\n",
    "    def name1(self):\n",
    "        print(f\"The new name is from class A\")\n",
    "\n",
    "\n"
   ]
  },
  {
   "cell_type": "code",
   "execution_count": 37,
   "metadata": {},
   "outputs": [
    {
     "name": "stdout",
     "output_type": "stream",
     "text": [
      "The new name is from class A\n"
     ]
    }
   ],
   "source": [
    "b= B(\"Nahid\")\n",
    "b.name1()\n"
   ]
  }
 ],
 "metadata": {
  "kernelspec": {
   "display_name": "Python 3",
   "language": "python",
   "name": "python3"
  },
  "language_info": {
   "codemirror_mode": {
    "name": "ipython",
    "version": 3
   },
   "file_extension": ".py",
   "mimetype": "text/x-python",
   "name": "python",
   "nbconvert_exporter": "python",
   "pygments_lexer": "ipython3",
   "version": "3.12.4"
  }
 },
 "nbformat": 4,
 "nbformat_minor": 2
}

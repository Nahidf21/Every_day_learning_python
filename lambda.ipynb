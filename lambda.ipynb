{
 "cells": [
  {
   "cell_type": "markdown",
   "metadata": {},
   "source": [
    "# Lambda Basic "
   ]
  },
  {
   "cell_type": "code",
   "execution_count": 1,
   "metadata": {},
   "outputs": [
    {
     "name": "stdout",
     "output_type": "stream",
     "text": [
      "7\n"
     ]
    }
   ],
   "source": [
    "add = lambda x, y : x+y\n",
    "print(add(3,4))"
   ]
  },
  {
   "cell_type": "code",
   "execution_count": 2,
   "metadata": {},
   "outputs": [
    {
     "name": "stdout",
     "output_type": "stream",
     "text": [
      "4\n"
     ]
    }
   ],
   "source": [
    "square = lambda x: x**2\n",
    "print(square(2))"
   ]
  },
  {
   "cell_type": "markdown",
   "metadata": {},
   "source": [
    "# Lambda Intermediate "
   ]
  },
  {
   "cell_type": "code",
   "execution_count": 3,
   "metadata": {},
   "outputs": [
    {
     "name": "stdout",
     "output_type": "stream",
     "text": [
      "[4, 9, 16, 4, 9]\n"
     ]
    }
   ],
   "source": [
    "numbers = [ 2,3,4,2,3]\n",
    "sq_list = list(map( lambda x : x**2, numbers))\n",
    "print(sq_list)"
   ]
  },
  {
   "cell_type": "code",
   "execution_count": 4,
   "metadata": {},
   "outputs": [
    {
     "name": "stdout",
     "output_type": "stream",
     "text": [
      "[2, 12, 16, 18]\n"
     ]
    }
   ],
   "source": [
    "numbers = [1,2,3,17,23,13,12,16,18]\n",
    "even_number = list(filter( lambda x : x%2 ==0 , numbers))\n",
    "print(even_number)"
   ]
  },
  {
   "cell_type": "code",
   "execution_count": 6,
   "metadata": {},
   "outputs": [
    {
     "name": "stdout",
     "output_type": "stream",
     "text": [
      "720\n"
     ]
    }
   ],
   "source": [
    "# Rolling computations to pairs of values \n",
    "from functools import reduce\n",
    "numbers = [1,2,3,1,2,3,4,5]\n",
    "pair_produce_from_number = reduce(lambda x,y : x*y, numbers)\n",
    "print(pair_produce_from_number)"
   ]
  },
  {
   "cell_type": "markdown",
   "metadata": {},
   "source": [
    "# Lambda Advanced "
   ]
  },
  {
   "cell_type": "code",
   "execution_count": 14,
   "metadata": {},
   "outputs": [
    {
     "data": {
      "text/plain": [
       "[(1, 3), (2, 1), (5, 2), (6, 4)]"
      ]
     },
     "execution_count": 14,
     "metadata": {},
     "output_type": "execute_result"
    }
   ],
   "source": [
    "points = [(1,3),(2,1),(6,4),(5,2)]\n",
    "points_shorted = sorted( points, key = lambda x: x[0])\n",
    "points_shorted"
   ]
  },
  {
   "cell_type": "code",
   "execution_count": 16,
   "metadata": {},
   "outputs": [
    {
     "name": "stdout",
     "output_type": "stream",
     "text": [
      "4\n",
      "8\n"
     ]
    }
   ],
   "source": [
    "def power(n):\n",
    "    return lambda x: x**n\n",
    "\n",
    "squer = power(2)\n",
    "qube = power(3)\n",
    "\n",
    "print(square(2))\n",
    "print(qube(2))"
   ]
  },
  {
   "cell_type": "code",
   "execution_count": 18,
   "metadata": {},
   "outputs": [
    {
     "name": "stdout",
     "output_type": "stream",
     "text": [
      "[{'name': 'Abid', 'Age': 28, 'Score': 94}, {'name': 'Marzia', 'Age': 32, 'Score': 93}, {'name': 'Sadia', 'Age': 30, 'Score': 93}, {'name': 'Nahid', 'Age': 34, 'Score': 91}, {'name': 'Ferdous', 'Age': 34, 'Score': 84}]\n"
     ]
    }
   ],
   "source": [
    "students = [\n",
    "    {\"name\": 'Marzia', \"Age\":32 , \"Score\": 93},\n",
    "    {\"name\": 'Nahid', \"Age\": 34, \"Score\": 91},\n",
    "    {\"name\":'Sadia' , \"Age\": 30, \"Score\": 93},\n",
    "    {\"name\": 'Abid', \"Age\": 28, \"Score\": 94},\n",
    "    {\"name\": 'Ferdous', \"Age\": 34, \"Score\":84 }\n",
    "]\n",
    "\n",
    "sorted_students = sorted(students, key= lambda Student : Student['Score'], reverse= True)\n",
    "print(sorted_students)"
   ]
  },
  {
   "cell_type": "code",
   "execution_count": 21,
   "metadata": {},
   "outputs": [
    {
     "name": "stdout",
     "output_type": "stream",
     "text": [
      "['even', 'odd', 'even', 'odd', 'odd', 'even', 'odd', 'even', 'even', 'even']\n"
     ]
    }
   ],
   "source": [
    "odd_or_even = lambda x : \"even\" if x%2==0 else \"odd\"\n",
    "lists = [2,3,4,1,3,4,5,6,2,4]\n",
    "check_list = list(map(odd_or_even, lists))\n",
    "print(check_list)"
   ]
  },
  {
   "cell_type": "code",
   "execution_count": 22,
   "metadata": {},
   "outputs": [
    {
     "name": "stdout",
     "output_type": "stream",
     "text": [
      "[4, 6, 8, 10, 8]\n"
     ]
    }
   ],
   "source": [
    "numbers= [2,3,4,5,4]\n",
    "double = [(lambda x : x*2)(x) for x in numbers]\n",
    "print(double)"
   ]
  },
  {
   "cell_type": "markdown",
   "metadata": {},
   "source": [
    "# Lambda Expert Level \n"
   ]
  },
  {
   "cell_type": "code",
   "execution_count": 23,
   "metadata": {},
   "outputs": [
    {
     "name": "stdout",
     "output_type": "stream",
     "text": [
      "10\n",
      "15\n"
     ]
    }
   ],
   "source": [
    "multiply = lambda x : (lambda y : x*y)\n",
    "double = multiply(2)\n",
    "triple = multiply(3)\n",
    "print(double(5))\n",
    "print(triple(5))"
   ]
  },
  {
   "cell_type": "code",
   "execution_count": null,
   "metadata": {},
   "outputs": [],
   "source": []
  },
  {
   "cell_type": "code",
   "execution_count": null,
   "metadata": {},
   "outputs": [],
   "source": []
  }
 ],
 "metadata": {
  "kernelspec": {
   "display_name": "Python 3",
   "language": "python",
   "name": "python3"
  },
  "language_info": {
   "codemirror_mode": {
    "name": "ipython",
    "version": 3
   },
   "file_extension": ".py",
   "mimetype": "text/x-python",
   "name": "python",
   "nbconvert_exporter": "python",
   "pygments_lexer": "ipython3",
   "version": "3.12.4"
  }
 },
 "nbformat": 4,
 "nbformat_minor": 2
}

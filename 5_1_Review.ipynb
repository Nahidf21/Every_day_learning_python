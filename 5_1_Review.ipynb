{
 "cells": [
  {
   "cell_type": "code",
   "execution_count": 15,
   "metadata": {},
   "outputs": [
    {
     "name": "stdout",
     "output_type": "stream",
     "text": [
      " THis is not allow to use zero\n"
     ]
    }
   ],
   "source": [
    "def error(number1,number2):\n",
    "    if number1 ==0:\n",
    "        result1 = number1/number2\n",
    "        raise Exception (\" THis is not allow to use zero\")\n",
    "    else:\n",
    "        result1 = number1/number2\n",
    "        return result1\n",
    "\n",
    "try: \n",
    "    x= int(input(\"Enter the number\"))\n",
    "    result = error(x,1)\n",
    "    print(result)\n",
    "except Exception as ex:\n",
    "    print(ex)\n"
   ]
  },
  {
   "cell_type": "code",
   "execution_count": 29,
   "metadata": {},
   "outputs": [],
   "source": [
    "class One:\n",
    "    def __init__(self,name):\n",
    "        self.name= name\n",
    "\n",
    "    def __str__(self):\n",
    "        return f\"THis is {self.name} Class \"\n",
    "\n",
    "    def info(self):\n",
    "        print(f\"My name is {self.name}\")\n",
    "    \n",
    "   "
   ]
  },
  {
   "cell_type": "code",
   "execution_count": 31,
   "metadata": {},
   "outputs": [
    {
     "name": "stdout",
     "output_type": "stream",
     "text": [
      "THis is Nahid Class \n"
     ]
    }
   ],
   "source": [
    "x= One(\"Nahid\")\n",
    "print(x)"
   ]
  },
  {
   "cell_type": "code",
   "execution_count": 32,
   "metadata": {},
   "outputs": [
    {
     "name": "stdout",
     "output_type": "stream",
     "text": [
      "Alice is 25 years old.\n"
     ]
    }
   ],
   "source": [
    "class Person:\n",
    "    def __init__(self, name, age):\n",
    "        self.name = name\n",
    "        self.age = age\n",
    "\n",
    "    def __str__(self):\n",
    "        return f\"{self.name} is {self.age} years old.\"\n",
    "\n",
    "p = Person(\"Alice\", 25)\n",
    "print(p)  # Output: Alice is 25 years old.\n"
   ]
  },
  {
   "cell_type": "code",
   "execution_count": 40,
   "metadata": {},
   "outputs": [
    {
     "name": "stdout",
     "output_type": "stream",
     "text": [
      "All required keys are present in the dictionary.\n",
      "Processing data: {'name': 'Alice', 'age': 30, 'city': 'New York'}\n",
      "Error: Missing keys in dictionary: age\n"
     ]
    }
   ],
   "source": [
    "# Decorator function\n",
    "def check_dict_keys(func):\n",
    "    def wrapper(*args, **kwargs):\n",
    "        required_keys = ['name', 'age']\n",
    "        \n",
    "        # Check if required keys exist in the kwargs (which holds dictionary data)\n",
    "        missing_keys = [key for key in required_keys if key not in kwargs]\n",
    "        \n",
    "        if missing_keys:\n",
    "            print(f\"Error: Missing keys in dictionary: {', '.join(missing_keys)}\")\n",
    "            return None\n",
    "        else:\n",
    "            print(\"All required keys are present in the dictionary.\")\n",
    "        \n",
    "        # Call the original function\n",
    "        return func(*args, **kwargs)\n",
    "    \n",
    "    return wrapper\n",
    "\n",
    "# Function that requires a dictionary as input, decorated with check_dict_keys\n",
    "@check_dict_keys\n",
    "def process_data(**kwargs):\n",
    "    print(f\"Processing data: {kwargs}\")\n",
    "\n",
    "# Example 1: Dictionary with all required keys\n",
    "data1 = {'name': 'Alice', 'age': 30, 'city': 'New York'}\n",
    "process_data(**data1)\n",
    "\n",
    "# Example 2: Dictionary missing one required key\n",
    "data2 = {'name': 'Bob', 'city': 'San Francisco'}\n",
    "process_data(**data2)\n"
   ]
  },
  {
   "cell_type": "code",
   "execution_count": 48,
   "metadata": {},
   "outputs": [
    {
     "name": "stdout",
     "output_type": "stream",
     "text": [
      " age is 23\n",
      "(21, 23, 23)\n",
      "{'name': 'Nahid', 'age': 23}\n"
     ]
    }
   ],
   "source": [
    "# StatichMethode\n",
    "# If we create static method then we dont can create instance directly for the methode, that means we dont need to \n",
    "# enter value on the instance then call the method.\n",
    "class Info:\n",
    "\n",
    "    def __init__(self,name):\n",
    "        self._name= name\n",
    "\n",
    "    @staticmethod\n",
    "    def Nahid(age):\n",
    "        print(f\" age is {age}\")\n",
    "\n",
    "    @staticmethod\n",
    "    def dire(*args,**wkags):\n",
    "        print(f\"{args}\")\n",
    "        print(f\"{wkags}\")\n",
    "\n",
    "x1= Info.Nahid(age=23)\n",
    "x2= Info.dire(21,23,23, name = \"Nahid\", age = 23)"
   ]
  },
  {
   "cell_type": "code",
   "execution_count": 53,
   "metadata": {},
   "outputs": [],
   "source": [
    "class Dog:\n",
    "    species = \"Canine\"  # Class Attribute\n",
    "\n",
    "    def __init__(self, name, breed):  # Special Method\n",
    "        self.name = name  # Instance Attribute\n",
    "        self.breed = breed\n",
    "\n",
    "    def bark(self):  # Instance Method\n",
    "        return f\"{self.name} is barking!\"\n",
    "\n",
    "    @classmethod\n",
    "    def common_species(cls):  # Class Method\n",
    "        return cls.species\n",
    "\n",
    "    @staticmethod\n",
    "    def dog_sound():  # Static Method\n",
    "        return \"Dogs bark\"\n",
    "\n",
    "    def __str__(self):  # Special Method\n",
    "        return f\"{self.name} is a {self.breed}\"\n"
   ]
  },
  {
   "cell_type": "code",
   "execution_count": 56,
   "metadata": {},
   "outputs": [
    {
     "name": "stdout",
     "output_type": "stream",
     "text": [
      "Banzo is a meu meu\n"
     ]
    },
    {
     "ename": "",
     "evalue": "",
     "output_type": "error",
     "traceback": [
      "\u001b[1;31mThe Kernel crashed while executing code in the current cell or a previous cell. \n",
      "\u001b[1;31mPlease review the code in the cell(s) to identify a possible cause of the failure. \n",
      "\u001b[1;31mClick <a href='https://aka.ms/vscodeJupyterKernelCrash'>here</a> for more info. \n",
      "\u001b[1;31mView Jupyter <a href='command:jupyter.viewOutput'>log</a> for further details."
     ]
    }
   ],
   "source": [
    "x= Dog(\"Banzo\",\"meu meu\")\n",
    "x.common_species()\n",
    "print(x)"
   ]
  },
  {
   "cell_type": "code",
   "execution_count": 2,
   "metadata": {},
   "outputs": [
    {
     "data": {
      "text/plain": [
       "[0, 1, 2, 3]"
      ]
     },
     "execution_count": 2,
     "metadata": {},
     "output_type": "execute_result"
    }
   ],
   "source": [
    "#Creat a list \n",
    "x=[x for x in range(4)]\n",
    "x"
   ]
  },
  {
   "cell_type": "code",
   "execution_count": 9,
   "metadata": {},
   "outputs": [],
   "source": [
    "list1 = [1,2,3,4,5,6,\"Hello\",5.2]\n",
    "list2=[]"
   ]
  },
  {
   "cell_type": "code",
   "execution_count": 10,
   "metadata": {},
   "outputs": [
    {
     "name": "stdout",
     "output_type": "stream",
     "text": [
      "[1, 2, 3, 4, 5, 6, None, 5.2]\n"
     ]
    }
   ],
   "source": [
    "for x in list1:\n",
    "    if isinstance( x,(int,float)):\n",
    "        list2.append(x)\n",
    "    else:\n",
    "        list2.append(None)\n",
    "\n",
    "print(list2)\n",
    "        "
   ]
  },
  {
   "cell_type": "code",
   "execution_count": 20,
   "metadata": {},
   "outputs": [],
   "source": [
    "def sq(x):\n",
    "    list2=[]\n",
    "    for i in x:\n",
    "        if isinstance(i,(int,float)):\n",
    "            list2.append(i)\n",
    "        else:\n",
    "            list2.append(None)\n",
    "    return list2"
   ]
  },
  {
   "cell_type": "code",
   "execution_count": 21,
   "metadata": {},
   "outputs": [
    {
     "data": {
      "text/plain": [
       "[1, 2, 3, 4, 5, 6, None, 5.2]"
      ]
     },
     "execution_count": 21,
     "metadata": {},
     "output_type": "execute_result"
    }
   ],
   "source": [
    "x= [1,2,3,4,5,6,\"Hello\",5.2]\n",
    "sq(x)"
   ]
  },
  {
   "cell_type": "code",
   "execution_count": 45,
   "metadata": {},
   "outputs": [
    {
     "data": {
      "text/plain": [
       "{1, 2, 3, 4}"
      ]
     },
     "execution_count": 45,
     "metadata": {},
     "output_type": "execute_result"
    }
   ],
   "source": [
    "s={1,2,3,4,1}\n",
    "s"
   ]
  },
  {
   "cell_type": "code",
   "execution_count": 56,
   "metadata": {},
   "outputs": [
    {
     "name": "stdout",
     "output_type": "stream",
     "text": [
      "My name is Nahid\n",
      "Website: Nahid Ferdous's Web\n",
      "32\n",
      "THis is my calss Nahid Ferdous's Web\n"
     ]
    }
   ],
   "source": [
    "class WebInfo:\n",
    "    # Class Attribute\n",
    "    website_name = \"Nahid Ferdous's Web\"  \n",
    "\n",
    "    def __init__(self, name, age, address):\n",
    "        # Instance Attributes\n",
    "        self.name = name  \n",
    "        self.__age = age  # Private instance attribute\n",
    "        self.address = address  \n",
    "\n",
    "    # Instance Method\n",
    "    def info(self):  \n",
    "        print(f\"My name is {self.name}\")\n",
    "        print(f\"Website: {self.website_name}\")\n",
    "        print(f\"{self.__age}\")\n",
    "    \n",
    "    # Magic Method\n",
    "    def __str__(self) -> str: \n",
    "        return f\"THis is my calss {self.website_name}\"\n",
    "\n",
    "# Create an instance of WebInfo class\n",
    "x1 = WebInfo(\"Nahid\", 32, \"19343 English Pine CT, Tomball, Texas 77375\")\n",
    "\n",
    "# Call the info method to display information\n",
    "x1.info()\n",
    "\n",
    "print(x1)\n"
   ]
  }
 ],
 "metadata": {
  "kernelspec": {
   "display_name": "Python 3",
   "language": "python",
   "name": "python3"
  },
  "language_info": {
   "codemirror_mode": {
    "name": "ipython",
    "version": 3
   },
   "file_extension": ".py",
   "mimetype": "text/x-python",
   "name": "python",
   "nbconvert_exporter": "python",
   "pygments_lexer": "ipython3",
   "version": "3.12.4"
  }
 },
 "nbformat": 4,
 "nbformat_minor": 2
}

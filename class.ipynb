{
 "cells": [
  {
   "cell_type": "code",
   "execution_count": 20,
   "metadata": {},
   "outputs": [
    {
     "name": "stdout",
     "output_type": "stream",
     "text": [
      "Person name : (self.name)\n",
      "Age : 32\n"
     ]
    }
   ],
   "source": [
    "class info:\n",
    "    def __init__(self, name, age, gender):\n",
    "        self.name = name \n",
    "        self.age = age\n",
    "        self.gender = gender\n",
    "\n",
    "    def personal_info(self):\n",
    "        print(f\"Person name : {self.name}\")\n",
    "        print(f\"Person age : {self.age}\")\n",
    "        print(f\"Person gender : {self.gender}\")\n",
    "\n",
    "    def resutl(self,sub,marks):\n",
    "        print(f\"Sunject : {sub}\")\n",
    "        print(f\"Result : {marks}\")\n",
    "\n",
    "# person1= info(\"Nahid\", 32, \"Male\")\n",
    "# person1.personal_info()\n",
    "\n",
    "class university(info):\n",
    "    def __init__(self, name, age, gender, uni_name):\n",
    "        super().__init__(name, age, gender)\n",
    "        self.uni_name = uni_name\n",
    "\n",
    "    def uni(self):\n",
    "        print(f\"University name : {self.uni_name}\")\n",
    "\n",
    "    def resutl(self, sub, marks):\n",
    "        print(f\"Person name : (self.name)\")\n",
    "        age1 = info(\"Nahid\", 32, \"Male\")\n",
    "        print(f\"Age : {age1.age}\")\n",
    "        # print(f\"{uni()}\")\n",
    "\n",
    " \n",
    "uni1= university(\"Marzia\",31,\"Female\",\"University of Houston\")\n",
    "# uni1.personal_info()\n",
    "# uni1.resutl(\"Machine Learning\", \"A\")\n",
    "# uni1.uni()\n",
    "uni1.resutl(\"Data Science\", \"A+\")"
   ]
  }
 ],
 "metadata": {
  "kernelspec": {
   "display_name": "Python 3",
   "language": "python",
   "name": "python3"
  },
  "language_info": {
   "codemirror_mode": {
    "name": "ipython",
    "version": 3
   },
   "file_extension": ".py",
   "mimetype": "text/x-python",
   "name": "python",
   "nbconvert_exporter": "python",
   "pygments_lexer": "ipython3",
   "version": "3.12.4"
  }
 },
 "nbformat": 4,
 "nbformat_minor": 2
}

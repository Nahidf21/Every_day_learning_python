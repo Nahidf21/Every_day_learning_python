{
 "cells": [
  {
   "cell_type": "code",
   "execution_count": 35,
   "metadata": {},
   "outputs": [],
   "source": [
    "import xml.etree.ElementTree as ET\n",
    "import glob\n",
    "import pandas as pd"
   ]
  },
  {
   "cell_type": "code",
   "execution_count": 52,
   "metadata": {},
   "outputs": [],
   "source": [
    "\n"
   ]
  },
  {
   "cell_type": "code",
   "execution_count": 53,
   "metadata": {},
   "outputs": [],
   "source": [
    "# Create a blank dataframe \n",
    "def xml_data(xml_raw):\n",
    "    xml_df =pd.DataFrame(columns=['name','height','weight'])\n",
    "    \n",
    "    tree = ET.parse(xml_raw)\n",
    "    root = tree.getroot()\n",
    "\n",
    "    for person in root:\n",
    "        name = person.find(\"name\").text\n",
    "        height= person.find(\"height\").text\n",
    "        weight = person.find(\"weight\").text\n",
    "        xml_df = pd.concat([xml_df, pd.DataFrame([{\"name\": name, \"height\": height, \"weight\": weight}])], ignore_index= True)\n",
    "    return xml_df\n",
    "\n",
    "\n"
   ]
  },
  {
   "cell_type": "code",
   "execution_count": 54,
   "metadata": {},
   "outputs": [],
   "source": [
    "\n",
    "files = glob.glob(r\"C:\\Users\\nahid\\Desktop\\Python_World\\ETL Coursera 2024\\source/*.xml\")\n",
    "for i in files:\n",
    "    xml_data(i)"
   ]
  },
  {
   "cell_type": "code",
   "execution_count": 55,
   "metadata": {},
   "outputs": [
    {
     "ename": "ParseError",
     "evalue": "syntax error: line 1, column 0 (<string>)",
     "output_type": "error",
     "traceback": [
      "Traceback \u001b[1;36m(most recent call last)\u001b[0m:\n",
      "\u001b[0m  File \u001b[0;32mc:\\Users\\nahid\\Desktop\\Python_World\\my_k\\Lib\\site-packages\\IPython\\core\\interactiveshell.py:3577\u001b[0m in \u001b[0;35mrun_code\u001b[0m\n    exec(code_obj, self.user_global_ns, self.user_ns)\u001b[0m\n",
      "\u001b[0m  Cell \u001b[0;32mIn[55], line 1\u001b[0m\n    tree = ET.parse(r\"C:\\Users\\nahid\\Desktop\\Python_World\\ETL Coursera 2024\\source\\source3.csv\")\u001b[0m\n",
      "\u001b[0m  File \u001b[0;32mc:\\Users\\nahid\\Desktop\\Python_World\\my_k\\Lib\\xml\\etree\\ElementTree.py:1204\u001b[0m in \u001b[0;35mparse\u001b[0m\n    tree.parse(source, parser)\u001b[0m\n",
      "\u001b[1;36m  File \u001b[1;32mc:\\Users\\nahid\\Desktop\\Python_World\\my_k\\Lib\\xml\\etree\\ElementTree.py:569\u001b[1;36m in \u001b[1;35mparse\u001b[1;36m\n\u001b[1;33m    self._root = parser._parse_whole(source)\u001b[1;36m\n",
      "\u001b[1;36m  File \u001b[1;32m<string>\u001b[1;36m\u001b[0m\n\u001b[1;31mParseError\u001b[0m\u001b[1;31m:\u001b[0m syntax error: line 1, column 0\n"
     ]
    }
   ],
   "source": [
    "tree = ET.parse(r\"C:\\Users\\nahid\\Desktop\\Python_World\\ETL Coursera 2024\\source\\source3.csv\")\n",
    "root = tree.getroot()"
   ]
  }
 ],
 "metadata": {
  "kernelspec": {
   "display_name": "Python 3",
   "language": "python",
   "name": "python3"
  },
  "language_info": {
   "codemirror_mode": {
    "name": "ipython",
    "version": 3
   },
   "file_extension": ".py",
   "mimetype": "text/x-python",
   "name": "python",
   "nbconvert_exporter": "python",
   "pygments_lexer": "ipython3",
   "version": "3.12.4"
  }
 },
 "nbformat": 4,
 "nbformat_minor": 2
}
